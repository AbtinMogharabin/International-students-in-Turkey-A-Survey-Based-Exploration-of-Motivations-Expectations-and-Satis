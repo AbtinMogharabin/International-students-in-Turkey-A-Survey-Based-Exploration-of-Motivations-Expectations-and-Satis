{
 "cells": [
  {
   "cell_type": "markdown",
   "metadata": {
    "colab_type": "text",
    "id": "37puETfgRzzg"
   },
   "source": [
    "# Data Preprocessing Tools"
   ]
  },
  {
   "cell_type": "markdown",
   "metadata": {
    "colab_type": "text",
    "id": "EoRP98MpR-qj"
   },
   "source": [
    "## Importing the libraries"
   ]
  },
  {
   "cell_type": "code",
   "execution_count": 130,
   "metadata": {
    "colab": {},
    "colab_type": "code",
    "id": "N-qiINBQSK2g"
   },
   "outputs": [],
   "source": [
    "import numpy as np\n",
    "import matplotlib.pyplot as plt\n",
    "import pandas as pd\n",
    "from sklearn.model_selection import cross_val_score\n",
    "from scipy import stats\n",
    "from sklearn.inspection import permutation_importance\n",
    "from matplotlib import pyplot as plt"
   ]
  },
  {
   "cell_type": "markdown",
   "metadata": {
    "colab_type": "text",
    "id": "RopL7tUZSQkT"
   },
   "source": [
    "## Importing the dataset"
   ]
  },
  {
   "cell_type": "code",
   "execution_count": 131,
   "metadata": {
    "colab": {},
    "colab_type": "code",
    "id": "WwEPNDWySTKm"
   },
   "outputs": [],
   "source": [
    "dataset = pd.read_csv('ML.csv')\n",
    "x = dataset.iloc[:,:-1].values\n",
    "y = dataset.iloc[:,-1].values"
   ]
  },
  {
   "cell_type": "code",
   "execution_count": 132,
   "metadata": {
    "colab": {
     "base_uri": "https://localhost:8080/",
     "height": 188
    },
    "colab_type": "code",
    "id": "hCsz2yCebe1R",
    "outputId": "1e4cc568-4e51-4b38-9d46-4aa3f15204be"
   },
   "outputs": [
    {
     "data": {
      "text/plain": [
       "array([[2.666666667, 'Afghanistan', nan, ..., 'Always problematic\\t',\n",
       "        'Sometimes problematic\\t', 'Always problematic\\t'],\n",
       "       [2.666666667, 'Morocco', 18.0, ..., 'Not problematic\\t',\n",
       "        'Always problematic\\t', 'Not problematic\\t'],\n",
       "       [3.166666667, 'Iran', 21.0, ..., 'Sometimes problematic\\t',\n",
       "        'Not problematic\\t', 'Sometimes problematic\\t'],\n",
       "       ...,\n",
       "       [nan, 'Afghanistan', 21.0, ..., nan, nan, nan],\n",
       "       [nan, nan, nan, ..., nan, nan, nan],\n",
       "       [nan, 'Afghanistan', 19.0, ..., nan, nan, nan]], dtype=object)"
      ]
     },
     "execution_count": 132,
     "metadata": {},
     "output_type": "execute_result"
    }
   ],
   "source": [
    "x"
   ]
  },
  {
   "cell_type": "code",
   "execution_count": 133,
   "metadata": {
    "colab": {
     "base_uri": "https://localhost:8080/",
     "height": 34
    },
    "colab_type": "code",
    "id": "eYrOQ43XcJR3",
    "outputId": "e0873b2a-3b08-4bab-ef0d-15b88858ca44"
   },
   "outputs": [
    {
     "data": {
      "text/plain": [
       "array(['Somewhat dissatisfied', 'Somewhat satisfied',\n",
       "       'Neither satisfied nor dissatisfied', 'Somewhat satisfied',\n",
       "       'Neither satisfied nor dissatisfied', 'Somewhat satisfied',\n",
       "       'Somewhat satisfied', 'Somewhat satisfied',\n",
       "       'Neither satisfied nor dissatisfied',\n",
       "       'Neither satisfied nor dissatisfied', 'Somewhat satisfied',\n",
       "       'Somewhat satisfied', 'Somewhat satisfied',\n",
       "       'Somewhat dissatisfied', 'Somewhat satisfied',\n",
       "       'Extremely satisfied', 'Somewhat satisfied', 'Somewhat satisfied',\n",
       "       'Somewhat satisfied', 'Somewhat dissatisfied',\n",
       "       'Somewhat satisfied', 'Somewhat satisfied', 'Somewhat satisfied',\n",
       "       'Somewhat satisfied', 'Somewhat satisfied', 'Somewhat satisfied',\n",
       "       'Somewhat satisfied', 'Somewhat satisfied', 'Somewhat satisfied',\n",
       "       nan, 'Somewhat satisfied', 'Neither satisfied nor dissatisfied',\n",
       "       'Somewhat satisfied', 'Somewhat satisfied', 'Somewhat satisfied',\n",
       "       'Somewhat satisfied', 'Somewhat satisfied', 'Somewhat satisfied',\n",
       "       'Somewhat satisfied', nan, 'Extremely satisfied',\n",
       "       'Somewhat satisfied', 'Somewhat satisfied', nan,\n",
       "       'Somewhat satisfied', 'Somewhat satisfied', nan,\n",
       "       'Somewhat satisfied', 'Somewhat satisfied', 'Extremely satisfied',\n",
       "       'Somewhat satisfied', 'Somewhat satisfied', 'Somewhat satisfied',\n",
       "       'Somewhat satisfied', 'Neither satisfied nor dissatisfied',\n",
       "       'Somewhat satisfied', 'Neither satisfied nor dissatisfied',\n",
       "       'Somewhat satisfied', 'Somewhat satisfied', 'Extremely satisfied',\n",
       "       'Extremely satisfied', 'Somewhat satisfied', 'Somewhat satisfied',\n",
       "       'Somewhat satisfied', 'Somewhat satisfied', nan, nan,\n",
       "       'Extremely satisfied', 'Somewhat satisfied', 'Somewhat satisfied',\n",
       "       'Somewhat satisfied', 'Somewhat satisfied', 'Extremely satisfied',\n",
       "       'Somewhat satisfied', 'Somewhat satisfied', 'Somewhat satisfied',\n",
       "       'Neither satisfied nor dissatisfied', 'Somewhat satisfied',\n",
       "       'Somewhat satisfied', 'Somewhat satisfied', 'Somewhat satisfied',\n",
       "       'Somewhat satisfied', 'Somewhat satisfied', 'Somewhat satisfied',\n",
       "       'Somewhat satisfied', 'Somewhat satisfied',\n",
       "       'Neither satisfied nor dissatisfied', 'Somewhat satisfied',\n",
       "       'Neither satisfied nor dissatisfied', 'Somewhat satisfied',\n",
       "       'Extremely satisfied', 'Somewhat satisfied', 'Somewhat satisfied',\n",
       "       'Somewhat satisfied', 'Somewhat satisfied', 'Somewhat satisfied',\n",
       "       'Neither satisfied nor dissatisfied', 'Extremely dissatisfied',\n",
       "       'Somewhat satisfied', 'Somewhat satisfied',\n",
       "       'Neither satisfied nor dissatisfied', 'Somewhat satisfied',\n",
       "       'Somewhat satisfied', 'Somewhat dissatisfied',\n",
       "       'Neither satisfied nor dissatisfied', 'Somewhat satisfied',\n",
       "       'Somewhat satisfied', 'Somewhat satisfied',\n",
       "       'Somewhat dissatisfied', 'Neither satisfied nor dissatisfied',\n",
       "       'Somewhat dissatisfied', 'Extremely satisfied',\n",
       "       'Extremely satisfied', 'Somewhat satisfied', 'Somewhat satisfied',\n",
       "       'Somewhat satisfied', 'Somewhat satisfied', 'Somewhat satisfied',\n",
       "       'Somewhat dissatisfied', 'Somewhat satisfied',\n",
       "       'Neither satisfied nor dissatisfied', 'Extremely satisfied',\n",
       "       'Somewhat satisfied', 'Extremely satisfied', 'Somewhat satisfied',\n",
       "       'Neither satisfied nor dissatisfied', 'Somewhat satisfied',\n",
       "       'Somewhat satisfied', 'Somewhat satisfied', 'Extremely satisfied',\n",
       "       'Somewhat dissatisfied', 'Somewhat satisfied',\n",
       "       'Somewhat satisfied', 'Somewhat satisfied', 'Somewhat satisfied',\n",
       "       'Somewhat satisfied', 'Somewhat satisfied', 'Extremely satisfied',\n",
       "       'Somewhat satisfied', 'Neither satisfied nor dissatisfied',\n",
       "       'Somewhat satisfied', 'Neither satisfied nor dissatisfied',\n",
       "       'Somewhat satisfied', 'Somewhat dissatisfied',\n",
       "       'Somewhat satisfied', 'Neither satisfied nor dissatisfied',\n",
       "       'Somewhat satisfied', 'Somewhat satisfied',\n",
       "       'Extremely dissatisfied', nan, 'Somewhat satisfied',\n",
       "       'Somewhat satisfied', nan, nan, 'Extremely satisfied', nan, nan,\n",
       "       nan, nan, nan, nan, nan, nan, nan, nan, nan, nan, nan,\n",
       "       'Neither satisfied nor dissatisfied', nan,\n",
       "       'Neither satisfied nor dissatisfied', nan, nan, nan,\n",
       "       'Somewhat satisfied', nan, 'Somewhat dissatisfied',\n",
       "       'Somewhat satisfied', 'Somewhat satisfied',\n",
       "       'Neither satisfied nor dissatisfied', nan, nan,\n",
       "       'Somewhat satisfied', 'Somewhat satisfied', nan, nan, nan, nan,\n",
       "       nan, nan, nan, nan, nan, 'Neither satisfied nor dissatisfied', nan,\n",
       "       nan, 'Somewhat satisfied', nan, 'Somewhat satisfied', nan,\n",
       "       'Somewhat satisfied', 'Somewhat satisfied', 'Somewhat satisfied',\n",
       "       'Somewhat satisfied', nan, nan, 'Somewhat satisfied',\n",
       "       'Somewhat satisfied', 'Somewhat satisfied', 'Somewhat satisfied',\n",
       "       nan, 'Somewhat satisfied', 'Somewhat satisfied',\n",
       "       'Somewhat satisfied', 'Somewhat satisfied', nan,\n",
       "       'Extremely satisfied', 'Extremely satisfied', nan,\n",
       "       'Somewhat satisfied', nan, 'Neither satisfied nor dissatisfied',\n",
       "       'Somewhat satisfied', 'Somewhat satisfied',\n",
       "       'Neither satisfied nor dissatisfied', nan, 'Somewhat satisfied',\n",
       "       nan, nan, nan, 'Neither satisfied nor dissatisfied',\n",
       "       'Somewhat satisfied', 'Somewhat satisfied', nan,\n",
       "       'Neither satisfied nor dissatisfied', 'Somewhat satisfied',\n",
       "       'Extremely satisfied', 'Neither satisfied nor dissatisfied', nan,\n",
       "       'Somewhat dissatisfied', 'Somewhat satisfied',\n",
       "       'Somewhat satisfied', 'Neither satisfied nor dissatisfied',\n",
       "       'Somewhat satisfied', 'Extremely dissatisfied',\n",
       "       'Extremely satisfied', nan, 'Somewhat satisfied', nan, nan, nan,\n",
       "       nan, nan, nan, nan, nan, nan, 'Extremely dissatisfied', nan, nan,\n",
       "       nan, nan, nan, nan, nan, nan, nan, nan, nan, nan,\n",
       "       'Neither satisfied nor dissatisfied', 'Somewhat satisfied', nan,\n",
       "       'Extremely satisfied', nan, nan, nan, nan, nan, nan, nan, nan, nan,\n",
       "       'Neither satisfied nor dissatisfied', nan, nan, nan, nan, nan, nan,\n",
       "       nan, nan, nan, nan, nan, nan, nan, nan, nan, nan], dtype=object)"
      ]
     },
     "execution_count": 133,
     "metadata": {},
     "output_type": "execute_result"
    }
   ],
   "source": [
    "y"
   ]
  },
  {
   "cell_type": "markdown",
   "metadata": {
    "colab_type": "text",
    "id": "nhfKXNxlSabC"
   },
   "source": [
    "## Taking care of missing data"
   ]
  },
  {
   "cell_type": "code",
   "execution_count": 134,
   "metadata": {
    "colab": {},
    "colab_type": "code",
    "id": "c93k7ipkSexq"
   },
   "outputs": [],
   "source": [
    "from sklearn.impute import SimpleImputer\n",
    "imputer = SimpleImputer(missing_values = np.nan, strategy = 'most_frequent')\n",
    "imputer.fit(x)\n",
    "x = imputer.transform(x)"
   ]
  },
  {
   "cell_type": "code",
   "execution_count": 135,
   "metadata": {
    "colab": {
     "base_uri": "https://localhost:8080/",
     "height": 188
    },
    "colab_type": "code",
    "id": "3UgLdMS_bjq_",
    "outputId": "254af4e0-681e-47f5-aaa7-b9c6f43258e9"
   },
   "outputs": [],
   "source": [
    "y = y.reshape(-1, 1)\n",
    "from sklearn.impute import SimpleImputer\n",
    "imputer1 = SimpleImputer(missing_values = np.nan, strategy = 'most_frequent')\n",
    "imputer1.fit(y)\n",
    "y = imputer1.transform(y)"
   ]
  },
  {
   "cell_type": "code",
   "execution_count": 136,
   "metadata": {},
   "outputs": [
    {
     "data": {
      "text/plain": [
       "array([[2.666666667, 'Afghanistan', 20.0, ..., 'Always problematic\\t',\n",
       "        'Sometimes problematic\\t', 'Always problematic\\t'],\n",
       "       [2.666666667, 'Morocco', 18.0, ..., 'Not problematic\\t',\n",
       "        'Always problematic\\t', 'Not problematic\\t'],\n",
       "       [3.166666667, 'Iran', 21.0, ..., 'Sometimes problematic\\t',\n",
       "        'Not problematic\\t', 'Sometimes problematic\\t'],\n",
       "       ...,\n",
       "       [3.0, 'Afghanistan', 21.0, ..., 'Sometimes problematic\\t',\n",
       "        'Sometimes problematic\\t', 'Sometimes problematic\\t'],\n",
       "       [3.0, 'Pakistan', 20.0, ..., 'Sometimes problematic\\t',\n",
       "        'Sometimes problematic\\t', 'Sometimes problematic\\t'],\n",
       "       [3.0, 'Afghanistan', 19.0, ..., 'Sometimes problematic\\t',\n",
       "        'Sometimes problematic\\t', 'Sometimes problematic\\t']],\n",
       "      dtype=object)"
      ]
     },
     "execution_count": 136,
     "metadata": {},
     "output_type": "execute_result"
    }
   ],
   "source": [
    "x"
   ]
  },
  {
   "cell_type": "code",
   "execution_count": 137,
   "metadata": {},
   "outputs": [
    {
     "data": {
      "text/plain": [
       "array([['Somewhat dissatisfied'],\n",
       "       ['Somewhat satisfied'],\n",
       "       ['Neither satisfied nor dissatisfied'],\n",
       "       ['Somewhat satisfied'],\n",
       "       ['Neither satisfied nor dissatisfied'],\n",
       "       ['Somewhat satisfied'],\n",
       "       ['Somewhat satisfied'],\n",
       "       ['Somewhat satisfied'],\n",
       "       ['Neither satisfied nor dissatisfied'],\n",
       "       ['Neither satisfied nor dissatisfied'],\n",
       "       ['Somewhat satisfied'],\n",
       "       ['Somewhat satisfied'],\n",
       "       ['Somewhat satisfied'],\n",
       "       ['Somewhat dissatisfied'],\n",
       "       ['Somewhat satisfied'],\n",
       "       ['Extremely satisfied'],\n",
       "       ['Somewhat satisfied'],\n",
       "       ['Somewhat satisfied'],\n",
       "       ['Somewhat satisfied'],\n",
       "       ['Somewhat dissatisfied'],\n",
       "       ['Somewhat satisfied'],\n",
       "       ['Somewhat satisfied'],\n",
       "       ['Somewhat satisfied'],\n",
       "       ['Somewhat satisfied'],\n",
       "       ['Somewhat satisfied'],\n",
       "       ['Somewhat satisfied'],\n",
       "       ['Somewhat satisfied'],\n",
       "       ['Somewhat satisfied'],\n",
       "       ['Somewhat satisfied'],\n",
       "       ['Somewhat satisfied'],\n",
       "       ['Somewhat satisfied'],\n",
       "       ['Neither satisfied nor dissatisfied'],\n",
       "       ['Somewhat satisfied'],\n",
       "       ['Somewhat satisfied'],\n",
       "       ['Somewhat satisfied'],\n",
       "       ['Somewhat satisfied'],\n",
       "       ['Somewhat satisfied'],\n",
       "       ['Somewhat satisfied'],\n",
       "       ['Somewhat satisfied'],\n",
       "       ['Somewhat satisfied'],\n",
       "       ['Extremely satisfied'],\n",
       "       ['Somewhat satisfied'],\n",
       "       ['Somewhat satisfied'],\n",
       "       ['Somewhat satisfied'],\n",
       "       ['Somewhat satisfied'],\n",
       "       ['Somewhat satisfied'],\n",
       "       ['Somewhat satisfied'],\n",
       "       ['Somewhat satisfied'],\n",
       "       ['Somewhat satisfied'],\n",
       "       ['Extremely satisfied'],\n",
       "       ['Somewhat satisfied'],\n",
       "       ['Somewhat satisfied'],\n",
       "       ['Somewhat satisfied'],\n",
       "       ['Somewhat satisfied'],\n",
       "       ['Neither satisfied nor dissatisfied'],\n",
       "       ['Somewhat satisfied'],\n",
       "       ['Neither satisfied nor dissatisfied'],\n",
       "       ['Somewhat satisfied'],\n",
       "       ['Somewhat satisfied'],\n",
       "       ['Extremely satisfied'],\n",
       "       ['Extremely satisfied'],\n",
       "       ['Somewhat satisfied'],\n",
       "       ['Somewhat satisfied'],\n",
       "       ['Somewhat satisfied'],\n",
       "       ['Somewhat satisfied'],\n",
       "       ['Somewhat satisfied'],\n",
       "       ['Somewhat satisfied'],\n",
       "       ['Extremely satisfied'],\n",
       "       ['Somewhat satisfied'],\n",
       "       ['Somewhat satisfied'],\n",
       "       ['Somewhat satisfied'],\n",
       "       ['Somewhat satisfied'],\n",
       "       ['Extremely satisfied'],\n",
       "       ['Somewhat satisfied'],\n",
       "       ['Somewhat satisfied'],\n",
       "       ['Somewhat satisfied'],\n",
       "       ['Neither satisfied nor dissatisfied'],\n",
       "       ['Somewhat satisfied'],\n",
       "       ['Somewhat satisfied'],\n",
       "       ['Somewhat satisfied'],\n",
       "       ['Somewhat satisfied'],\n",
       "       ['Somewhat satisfied'],\n",
       "       ['Somewhat satisfied'],\n",
       "       ['Somewhat satisfied'],\n",
       "       ['Somewhat satisfied'],\n",
       "       ['Somewhat satisfied'],\n",
       "       ['Neither satisfied nor dissatisfied'],\n",
       "       ['Somewhat satisfied'],\n",
       "       ['Neither satisfied nor dissatisfied'],\n",
       "       ['Somewhat satisfied'],\n",
       "       ['Extremely satisfied'],\n",
       "       ['Somewhat satisfied'],\n",
       "       ['Somewhat satisfied'],\n",
       "       ['Somewhat satisfied'],\n",
       "       ['Somewhat satisfied'],\n",
       "       ['Somewhat satisfied'],\n",
       "       ['Neither satisfied nor dissatisfied'],\n",
       "       ['Extremely dissatisfied'],\n",
       "       ['Somewhat satisfied'],\n",
       "       ['Somewhat satisfied'],\n",
       "       ['Neither satisfied nor dissatisfied'],\n",
       "       ['Somewhat satisfied'],\n",
       "       ['Somewhat satisfied'],\n",
       "       ['Somewhat dissatisfied'],\n",
       "       ['Neither satisfied nor dissatisfied'],\n",
       "       ['Somewhat satisfied'],\n",
       "       ['Somewhat satisfied'],\n",
       "       ['Somewhat satisfied'],\n",
       "       ['Somewhat dissatisfied'],\n",
       "       ['Neither satisfied nor dissatisfied'],\n",
       "       ['Somewhat dissatisfied'],\n",
       "       ['Extremely satisfied'],\n",
       "       ['Extremely satisfied'],\n",
       "       ['Somewhat satisfied'],\n",
       "       ['Somewhat satisfied'],\n",
       "       ['Somewhat satisfied'],\n",
       "       ['Somewhat satisfied'],\n",
       "       ['Somewhat satisfied'],\n",
       "       ['Somewhat dissatisfied'],\n",
       "       ['Somewhat satisfied'],\n",
       "       ['Neither satisfied nor dissatisfied'],\n",
       "       ['Extremely satisfied'],\n",
       "       ['Somewhat satisfied'],\n",
       "       ['Extremely satisfied'],\n",
       "       ['Somewhat satisfied'],\n",
       "       ['Neither satisfied nor dissatisfied'],\n",
       "       ['Somewhat satisfied'],\n",
       "       ['Somewhat satisfied'],\n",
       "       ['Somewhat satisfied'],\n",
       "       ['Extremely satisfied'],\n",
       "       ['Somewhat dissatisfied'],\n",
       "       ['Somewhat satisfied'],\n",
       "       ['Somewhat satisfied'],\n",
       "       ['Somewhat satisfied'],\n",
       "       ['Somewhat satisfied'],\n",
       "       ['Somewhat satisfied'],\n",
       "       ['Somewhat satisfied'],\n",
       "       ['Extremely satisfied'],\n",
       "       ['Somewhat satisfied'],\n",
       "       ['Neither satisfied nor dissatisfied'],\n",
       "       ['Somewhat satisfied'],\n",
       "       ['Neither satisfied nor dissatisfied'],\n",
       "       ['Somewhat satisfied'],\n",
       "       ['Somewhat dissatisfied'],\n",
       "       ['Somewhat satisfied'],\n",
       "       ['Neither satisfied nor dissatisfied'],\n",
       "       ['Somewhat satisfied'],\n",
       "       ['Somewhat satisfied'],\n",
       "       ['Extremely dissatisfied'],\n",
       "       ['Somewhat satisfied'],\n",
       "       ['Somewhat satisfied'],\n",
       "       ['Somewhat satisfied'],\n",
       "       ['Somewhat satisfied'],\n",
       "       ['Somewhat satisfied'],\n",
       "       ['Extremely satisfied'],\n",
       "       ['Somewhat satisfied'],\n",
       "       ['Somewhat satisfied'],\n",
       "       ['Somewhat satisfied'],\n",
       "       ['Somewhat satisfied'],\n",
       "       ['Somewhat satisfied'],\n",
       "       ['Somewhat satisfied'],\n",
       "       ['Somewhat satisfied'],\n",
       "       ['Somewhat satisfied'],\n",
       "       ['Somewhat satisfied'],\n",
       "       ['Somewhat satisfied'],\n",
       "       ['Somewhat satisfied'],\n",
       "       ['Somewhat satisfied'],\n",
       "       ['Somewhat satisfied'],\n",
       "       ['Neither satisfied nor dissatisfied'],\n",
       "       ['Somewhat satisfied'],\n",
       "       ['Neither satisfied nor dissatisfied'],\n",
       "       ['Somewhat satisfied'],\n",
       "       ['Somewhat satisfied'],\n",
       "       ['Somewhat satisfied'],\n",
       "       ['Somewhat satisfied'],\n",
       "       ['Somewhat satisfied'],\n",
       "       ['Somewhat dissatisfied'],\n",
       "       ['Somewhat satisfied'],\n",
       "       ['Somewhat satisfied'],\n",
       "       ['Neither satisfied nor dissatisfied'],\n",
       "       ['Somewhat satisfied'],\n",
       "       ['Somewhat satisfied'],\n",
       "       ['Somewhat satisfied'],\n",
       "       ['Somewhat satisfied'],\n",
       "       ['Somewhat satisfied'],\n",
       "       ['Somewhat satisfied'],\n",
       "       ['Somewhat satisfied'],\n",
       "       ['Somewhat satisfied'],\n",
       "       ['Somewhat satisfied'],\n",
       "       ['Somewhat satisfied'],\n",
       "       ['Somewhat satisfied'],\n",
       "       ['Somewhat satisfied'],\n",
       "       ['Somewhat satisfied'],\n",
       "       ['Neither satisfied nor dissatisfied'],\n",
       "       ['Somewhat satisfied'],\n",
       "       ['Somewhat satisfied'],\n",
       "       ['Somewhat satisfied'],\n",
       "       ['Somewhat satisfied'],\n",
       "       ['Somewhat satisfied'],\n",
       "       ['Somewhat satisfied'],\n",
       "       ['Somewhat satisfied'],\n",
       "       ['Somewhat satisfied'],\n",
       "       ['Somewhat satisfied'],\n",
       "       ['Somewhat satisfied'],\n",
       "       ['Somewhat satisfied'],\n",
       "       ['Somewhat satisfied'],\n",
       "       ['Somewhat satisfied'],\n",
       "       ['Somewhat satisfied'],\n",
       "       ['Somewhat satisfied'],\n",
       "       ['Somewhat satisfied'],\n",
       "       ['Somewhat satisfied'],\n",
       "       ['Somewhat satisfied'],\n",
       "       ['Somewhat satisfied'],\n",
       "       ['Somewhat satisfied'],\n",
       "       ['Somewhat satisfied'],\n",
       "       ['Somewhat satisfied'],\n",
       "       ['Extremely satisfied'],\n",
       "       ['Extremely satisfied'],\n",
       "       ['Somewhat satisfied'],\n",
       "       ['Somewhat satisfied'],\n",
       "       ['Somewhat satisfied'],\n",
       "       ['Neither satisfied nor dissatisfied'],\n",
       "       ['Somewhat satisfied'],\n",
       "       ['Somewhat satisfied'],\n",
       "       ['Neither satisfied nor dissatisfied'],\n",
       "       ['Somewhat satisfied'],\n",
       "       ['Somewhat satisfied'],\n",
       "       ['Somewhat satisfied'],\n",
       "       ['Somewhat satisfied'],\n",
       "       ['Somewhat satisfied'],\n",
       "       ['Neither satisfied nor dissatisfied'],\n",
       "       ['Somewhat satisfied'],\n",
       "       ['Somewhat satisfied'],\n",
       "       ['Somewhat satisfied'],\n",
       "       ['Neither satisfied nor dissatisfied'],\n",
       "       ['Somewhat satisfied'],\n",
       "       ['Extremely satisfied'],\n",
       "       ['Neither satisfied nor dissatisfied'],\n",
       "       ['Somewhat satisfied'],\n",
       "       ['Somewhat dissatisfied'],\n",
       "       ['Somewhat satisfied'],\n",
       "       ['Somewhat satisfied'],\n",
       "       ['Neither satisfied nor dissatisfied'],\n",
       "       ['Somewhat satisfied'],\n",
       "       ['Extremely dissatisfied'],\n",
       "       ['Extremely satisfied'],\n",
       "       ['Somewhat satisfied'],\n",
       "       ['Somewhat satisfied'],\n",
       "       ['Somewhat satisfied'],\n",
       "       ['Somewhat satisfied'],\n",
       "       ['Somewhat satisfied'],\n",
       "       ['Somewhat satisfied'],\n",
       "       ['Somewhat satisfied'],\n",
       "       ['Somewhat satisfied'],\n",
       "       ['Somewhat satisfied'],\n",
       "       ['Somewhat satisfied'],\n",
       "       ['Somewhat satisfied'],\n",
       "       ['Extremely dissatisfied'],\n",
       "       ['Somewhat satisfied'],\n",
       "       ['Somewhat satisfied'],\n",
       "       ['Somewhat satisfied'],\n",
       "       ['Somewhat satisfied'],\n",
       "       ['Somewhat satisfied'],\n",
       "       ['Somewhat satisfied'],\n",
       "       ['Somewhat satisfied'],\n",
       "       ['Somewhat satisfied'],\n",
       "       ['Somewhat satisfied'],\n",
       "       ['Somewhat satisfied'],\n",
       "       ['Somewhat satisfied'],\n",
       "       ['Somewhat satisfied'],\n",
       "       ['Neither satisfied nor dissatisfied'],\n",
       "       ['Somewhat satisfied'],\n",
       "       ['Somewhat satisfied'],\n",
       "       ['Extremely satisfied'],\n",
       "       ['Somewhat satisfied'],\n",
       "       ['Somewhat satisfied'],\n",
       "       ['Somewhat satisfied'],\n",
       "       ['Somewhat satisfied'],\n",
       "       ['Somewhat satisfied'],\n",
       "       ['Somewhat satisfied'],\n",
       "       ['Somewhat satisfied'],\n",
       "       ['Somewhat satisfied'],\n",
       "       ['Somewhat satisfied'],\n",
       "       ['Neither satisfied nor dissatisfied'],\n",
       "       ['Somewhat satisfied'],\n",
       "       ['Somewhat satisfied'],\n",
       "       ['Somewhat satisfied'],\n",
       "       ['Somewhat satisfied'],\n",
       "       ['Somewhat satisfied'],\n",
       "       ['Somewhat satisfied'],\n",
       "       ['Somewhat satisfied'],\n",
       "       ['Somewhat satisfied'],\n",
       "       ['Somewhat satisfied'],\n",
       "       ['Somewhat satisfied'],\n",
       "       ['Somewhat satisfied'],\n",
       "       ['Somewhat satisfied'],\n",
       "       ['Somewhat satisfied'],\n",
       "       ['Somewhat satisfied'],\n",
       "       ['Somewhat satisfied'],\n",
       "       ['Somewhat satisfied']], dtype=object)"
      ]
     },
     "execution_count": 137,
     "metadata": {},
     "output_type": "execute_result"
    }
   ],
   "source": [
    "y"
   ]
  },
  {
   "cell_type": "markdown",
   "metadata": {
    "colab_type": "text",
    "id": "CriG6VzVSjcK"
   },
   "source": [
    "## Encoding categorical data"
   ]
  },
  {
   "cell_type": "markdown",
   "metadata": {
    "colab_type": "text",
    "id": "AhSpdQWeSsFh"
   },
   "source": [
    "### Encoding the Independent Variable"
   ]
  },
  {
   "cell_type": "code",
   "execution_count": 138,
   "metadata": {
    "colab": {},
    "colab_type": "code",
    "id": "5hwuVddlSwVi"
   },
   "outputs": [],
   "source": [
    "from sklearn.compose import ColumnTransformer\n",
    "from sklearn.preprocessing import OneHotEncoder\n",
    "ct = ColumnTransformer(transformers =[('encoder', OneHotEncoder(sparse = False),[1,3,4,5,6,7,8,9,10,11,12,13,14,15,16,17,18,19,20\n",
    "                                                                  ,21,22,23,24,25,26,27,28,29,30,31,32,33,34] )] , remainder ='passthrough')\n",
    "x = np.array(ct.fit_transform(x))"
   ]
  },
  {
   "cell_type": "code",
   "execution_count": 139,
   "metadata": {
    "colab": {
     "base_uri": "https://localhost:8080/",
     "height": 188
    },
    "colab_type": "code",
    "id": "f7QspewyeBfx",
    "outputId": "5b35feef-7fe2-46ef-ce70-80495f94f4ed"
   },
   "outputs": [
    {
     "data": {
      "text/plain": [
       "(300, 220)"
      ]
     },
     "execution_count": 139,
     "metadata": {},
     "output_type": "execute_result"
    }
   ],
   "source": [
    "np.shape(x)"
   ]
  },
  {
   "cell_type": "markdown",
   "metadata": {
    "colab_type": "text",
    "id": "DXh8oVSITIc6"
   },
   "source": [
    "### Splitting the dataset into the Training set and Test set"
   ]
  },
  {
   "cell_type": "code",
   "execution_count": 140,
   "metadata": {
    "colab": {},
    "colab_type": "code",
    "id": "XgHCShVyTOYY"
   },
   "outputs": [
    {
     "name": "stderr",
     "output_type": "stream",
     "text": [
      "C:\\Users\\SN\\anaconda3\\lib\\site-packages\\sklearn\\preprocessing\\_label.py:115: DataConversionWarning: A column-vector y was passed when a 1d array was expected. Please change the shape of y to (n_samples, ), for example using ravel().\n",
      "  y = column_or_1d(y, warn=True)\n"
     ]
    }
   ],
   "source": [
    "from sklearn.preprocessing import LabelEncoder\n",
    "le = LabelEncoder()\n",
    "y = le.fit_transform(y)"
   ]
  },
  {
   "cell_type": "code",
   "execution_count": 141,
   "metadata": {
    "colab": {
     "base_uri": "https://localhost:8080/",
     "height": 34
    },
    "colab_type": "code",
    "id": "FyhY8-gPpFCa",
    "outputId": "7f76ef29-5423-4c3e-cf69-45fbc366a997"
   },
   "outputs": [],
   "source": [
    "from sklearn.model_selection import train_test_split\n",
    "x_train, x_test, y_train, y_test = train_test_split(x, y, test_size = .2)"
   ]
  },
  {
   "cell_type": "markdown",
   "metadata": {
    "colab_type": "text",
    "id": "qb_vcgm3qZKW"
   },
   "source": [
    "## Fitting the Logistic Model"
   ]
  },
  {
   "cell_type": "code",
   "execution_count": 163,
   "metadata": {
    "colab": {},
    "colab_type": "code",
    "id": "pXgA6CzlqbCl"
   },
   "outputs": [
    {
     "data": {
      "text/plain": [
       "LogisticRegression(max_iter=10000, random_state=0)"
      ]
     },
     "execution_count": 163,
     "metadata": {},
     "output_type": "execute_result"
    }
   ],
   "source": [
    "from sklearn.linear_model import LogisticRegression\n",
    "classifier_lr1 = LogisticRegression(random_state = 0, solver='lbfgs', max_iter=10000)\n",
    "classifier_lr1.fit(x_train, y_train)\n"
   ]
  },
  {
   "cell_type": "code",
   "execution_count": 164,
   "metadata": {
    "colab": {
     "base_uri": "https://localhost:8080/",
     "height": 34
    },
    "colab_type": "code",
    "id": "I_tW7H56rgtW",
    "outputId": "2a93f141-2a99-4a69-eec5-c82a3bb8d36b"
   },
   "outputs": [
    {
     "name": "stdout",
     "output_type": "stream",
     "text": [
      "[[2 2]\n",
      " [1 1]\n",
      " [4 3]\n",
      " [4 1]\n",
      " [4 4]\n",
      " [4 4]\n",
      " [4 4]\n",
      " [4 4]\n",
      " [4 4]\n",
      " [4 4]\n",
      " [4 2]\n",
      " [4 4]\n",
      " [4 4]\n",
      " [4 2]\n",
      " [4 4]\n",
      " [2 4]\n",
      " [4 4]\n",
      " [4 1]\n",
      " [4 4]\n",
      " [4 4]\n",
      " [4 4]\n",
      " [4 4]\n",
      " [4 4]\n",
      " [4 2]\n",
      " [4 4]\n",
      " [4 4]\n",
      " [1 4]\n",
      " [4 1]\n",
      " [2 4]\n",
      " [4 4]\n",
      " [4 4]\n",
      " [4 4]\n",
      " [4 4]\n",
      " [4 1]\n",
      " [4 4]\n",
      " [4 4]\n",
      " [4 4]\n",
      " [4 2]\n",
      " [4 4]\n",
      " [4 4]\n",
      " [4 4]\n",
      " [4 4]\n",
      " [4 4]\n",
      " [4 4]\n",
      " [4 4]\n",
      " [4 4]\n",
      " [4 4]\n",
      " [4 1]\n",
      " [4 4]\n",
      " [4 1]\n",
      " [4 4]\n",
      " [4 2]\n",
      " [4 4]\n",
      " [2 2]\n",
      " [4 4]\n",
      " [4 4]\n",
      " [4 4]\n",
      " [2 2]\n",
      " [4 4]\n",
      " [4 4]]\n"
     ]
    }
   ],
   "source": [
    "y_pred_lr = classifier_lr1.predict(x_test)\n",
    "print(np.concatenate((y_pred_lr.reshape(len(y_pred_lr),1), y_test.reshape(len(y_test),1)),1))"
   ]
  },
  {
   "cell_type": "code",
   "execution_count": 165,
   "metadata": {},
   "outputs": [
    {
     "name": "stdout",
     "output_type": "stream",
     "text": [
      "[[ 1  0  0  6]\n",
      " [ 0  3  0  5]\n",
      " [ 0  0  0  1]\n",
      " [ 1  2  0 41]]\n"
     ]
    },
    {
     "data": {
      "text/plain": [
       "0.75"
      ]
     },
     "execution_count": 165,
     "metadata": {},
     "output_type": "execute_result"
    }
   ],
   "source": [
    "from sklearn.metrics import confusion_matrix, accuracy_score\n",
    "cm = confusion_matrix(y_test, y_pred_lr)\n",
    "print(cm)\n",
    "accuracy_score(y_test, y_pred_lr)"
   ]
  },
  {
   "cell_type": "code",
   "execution_count": 166,
   "metadata": {},
   "outputs": [
    {
     "data": {
      "text/plain": [
       "0.7366666666666667"
      ]
     },
     "execution_count": 166,
     "metadata": {},
     "output_type": "execute_result"
    }
   ],
   "source": [
    "# Results by cross validation\n",
    "scores_lr1 = cross_val_score(classifier_lr1, x, y, cv=4)\n",
    "np.mean(scores_lr)"
   ]
  },
  {
   "cell_type": "markdown",
   "metadata": {
    "colab_type": "text",
    "id": "TpGqbS4TqkIR"
   },
   "source": [
    "## K-Nearest Model"
   ]
  },
  {
   "cell_type": "code",
   "execution_count": 227,
   "metadata": {
    "colab": {},
    "colab_type": "code",
    "id": "AxjSUXFQqo-3"
   },
   "outputs": [
    {
     "data": {
      "text/plain": [
       "KNeighborsClassifier()"
      ]
     },
     "execution_count": 227,
     "metadata": {},
     "output_type": "execute_result"
    }
   ],
   "source": [
    "from sklearn.neighbors import KNeighborsClassifier\n",
    "classifier_knn = KNeighborsClassifier(n_neighbors = 5, metric = 'minkowski', p = 2)\n",
    "classifier_knn.fit(x_train, y_train)"
   ]
  },
  {
   "cell_type": "code",
   "execution_count": 332,
   "metadata": {
    "colab": {
     "base_uri": "https://localhost:8080/",
     "height": 154
    },
    "colab_type": "code",
    "id": "DWPET8ZdlMnu",
    "outputId": "dea86927-5124-4e2a-e974-2804df9a913c"
   },
   "outputs": [
    {
     "name": "stdout",
     "output_type": "stream",
     "text": [
      "[[4 4]\n",
      " [4 4]\n",
      " [4 2]\n",
      " [4 4]\n",
      " [4 4]\n",
      " [4 4]\n",
      " [4 4]\n",
      " [4 4]\n",
      " [4 4]\n",
      " [4 4]\n",
      " [4 1]\n",
      " [4 4]\n",
      " [4 4]\n",
      " [4 4]\n",
      " [4 4]\n",
      " [4 2]\n",
      " [4 4]\n",
      " [4 4]\n",
      " [4 4]\n",
      " [4 4]\n",
      " [4 2]\n",
      " [4 1]\n",
      " [4 2]\n",
      " [4 4]\n",
      " [4 4]\n",
      " [4 4]\n",
      " [4 4]\n",
      " [4 4]\n",
      " [1 4]\n",
      " [4 4]\n",
      " [4 4]\n",
      " [4 4]\n",
      " [4 4]\n",
      " [4 2]\n",
      " [4 4]\n",
      " [2 2]\n",
      " [4 4]\n",
      " [4 3]\n",
      " [4 4]\n",
      " [2 2]\n",
      " [4 3]\n",
      " [4 4]\n",
      " [4 4]\n",
      " [4 4]\n",
      " [4 4]\n",
      " [4 1]\n",
      " [4 4]\n",
      " [4 3]\n",
      " [4 4]\n",
      " [4 4]\n",
      " [4 4]\n",
      " [4 4]\n",
      " [4 4]\n",
      " [4 4]\n",
      " [4 4]\n",
      " [4 4]\n",
      " [4 4]\n",
      " [4 4]\n",
      " [4 1]\n",
      " [2 3]]\n"
     ]
    },
    {
     "name": "stderr",
     "output_type": "stream",
     "text": [
      "C:\\Users\\ACER\\anaconda3\\lib\\site-packages\\sklearn\\neighbors\\_classification.py:228: FutureWarning: Unlike other reduction functions (e.g. `skew`, `kurtosis`), the default behavior of `mode` typically preserves the axis it acts along. In SciPy 1.11.0, this behavior will change: the default value of `keepdims` will become False, the `axis` over which the statistic is taken will be eliminated, and the value None will no longer be accepted. Set `keepdims` to True or False to avoid this warning.\n",
      "  mode, _ = stats.mode(_y[neigh_ind, k], axis=1)\n"
     ]
    }
   ],
   "source": [
    "y_pred_knn = classifier_knn.predict(x_test)\n",
    "print(np.concatenate((y_pred_knn.reshape(len(y_pred_knn),1), y_test.reshape(len(y_test),1)),1))"
   ]
  },
  {
   "cell_type": "code",
   "execution_count": 333,
   "metadata": {
    "colab": {
     "base_uri": "https://localhost:8080/",
     "height": 51
    },
    "colab_type": "code",
    "id": "sTXykB_QlRjE",
    "outputId": "b68f0cfc-d07c-48cb-80d0-6800028c41f9"
   },
   "outputs": [],
   "source": [
    "###Confusion Matrix"
   ]
  },
  {
   "cell_type": "code",
   "execution_count": 334,
   "metadata": {},
   "outputs": [
    {
     "name": "stdout",
     "output_type": "stream",
     "text": [
      "[[ 0  0  0  4]\n",
      " [ 0  2  0  5]\n",
      " [ 0  1  0  3]\n",
      " [ 1  0  0 44]]\n"
     ]
    },
    {
     "data": {
      "text/plain": [
       "0.7666666666666667"
      ]
     },
     "execution_count": 334,
     "metadata": {},
     "output_type": "execute_result"
    }
   ],
   "source": [
    "from sklearn.metrics import confusion_matrix, accuracy_score\n",
    "cm = confusion_matrix(y_test, y_pred_knn)\n",
    "print(cm)\n",
    "accuracy_score(y_test, y_pred_knn)"
   ]
  },
  {
   "cell_type": "code",
   "execution_count": 231,
   "metadata": {},
   "outputs": [
    {
     "name": "stderr",
     "output_type": "stream",
     "text": [
      "C:\\Users\\ACER\\anaconda3\\lib\\site-packages\\sklearn\\neighbors\\_classification.py:228: FutureWarning: Unlike other reduction functions (e.g. `skew`, `kurtosis`), the default behavior of `mode` typically preserves the axis it acts along. In SciPy 1.11.0, this behavior will change: the default value of `keepdims` will become False, the `axis` over which the statistic is taken will be eliminated, and the value None will no longer be accepted. Set `keepdims` to True or False to avoid this warning.\n",
      "  mode, _ = stats.mode(_y[neigh_ind, k], axis=1)\n",
      "C:\\Users\\ACER\\anaconda3\\lib\\site-packages\\sklearn\\neighbors\\_classification.py:228: FutureWarning: Unlike other reduction functions (e.g. `skew`, `kurtosis`), the default behavior of `mode` typically preserves the axis it acts along. In SciPy 1.11.0, this behavior will change: the default value of `keepdims` will become False, the `axis` over which the statistic is taken will be eliminated, and the value None will no longer be accepted. Set `keepdims` to True or False to avoid this warning.\n",
      "  mode, _ = stats.mode(_y[neigh_ind, k], axis=1)\n",
      "C:\\Users\\ACER\\anaconda3\\lib\\site-packages\\sklearn\\neighbors\\_classification.py:228: FutureWarning: Unlike other reduction functions (e.g. `skew`, `kurtosis`), the default behavior of `mode` typically preserves the axis it acts along. In SciPy 1.11.0, this behavior will change: the default value of `keepdims` will become False, the `axis` over which the statistic is taken will be eliminated, and the value None will no longer be accepted. Set `keepdims` to True or False to avoid this warning.\n",
      "  mode, _ = stats.mode(_y[neigh_ind, k], axis=1)\n",
      "C:\\Users\\ACER\\anaconda3\\lib\\site-packages\\sklearn\\neighbors\\_classification.py:228: FutureWarning: Unlike other reduction functions (e.g. `skew`, `kurtosis`), the default behavior of `mode` typically preserves the axis it acts along. In SciPy 1.11.0, this behavior will change: the default value of `keepdims` will become False, the `axis` over which the statistic is taken will be eliminated, and the value None will no longer be accepted. Set `keepdims` to True or False to avoid this warning.\n",
      "  mode, _ = stats.mode(_y[neigh_ind, k], axis=1)\n"
     ]
    },
    {
     "data": {
      "text/plain": [
       "0.7333333333333334"
      ]
     },
     "execution_count": 231,
     "metadata": {},
     "output_type": "execute_result"
    }
   ],
   "source": [
    "# Results by cross validation\n",
    "scores_knn = cross_val_score(classifier_knn, x, y, cv=4)\n",
    "np.mean(scores_knn)"
   ]
  },
  {
   "cell_type": "code",
   "execution_count": 232,
   "metadata": {},
   "outputs": [],
   "source": [
    "## Support Vector algorithm"
   ]
  },
  {
   "cell_type": "code",
   "execution_count": 233,
   "metadata": {},
   "outputs": [
    {
     "data": {
      "text/plain": [
       "SVC(kernel='linear', random_state=0)"
      ]
     },
     "execution_count": 233,
     "metadata": {},
     "output_type": "execute_result"
    }
   ],
   "source": [
    "from sklearn.svm import SVC\n",
    "classifier_svm = SVC(kernel = 'linear', random_state = 0)\n",
    "classifier_svm.fit(x_train, y_train)"
   ]
  },
  {
   "cell_type": "code",
   "execution_count": 234,
   "metadata": {},
   "outputs": [
    {
     "name": "stdout",
     "output_type": "stream",
     "text": [
      "[[1 1]\n",
      " [4 2]\n",
      " [4 4]\n",
      " [4 4]\n",
      " [4 4]\n",
      " [4 4]\n",
      " [1 2]\n",
      " [4 2]\n",
      " [4 1]\n",
      " [4 4]\n",
      " [4 4]\n",
      " [4 4]\n",
      " [1 1]\n",
      " [4 4]\n",
      " [4 4]\n",
      " [4 4]\n",
      " [4 2]\n",
      " [2 4]\n",
      " [4 4]\n",
      " [4 4]\n",
      " [4 4]\n",
      " [4 4]\n",
      " [4 4]\n",
      " [4 4]\n",
      " [3 3]\n",
      " [2 2]\n",
      " [4 2]\n",
      " [4 4]\n",
      " [4 4]\n",
      " [4 4]\n",
      " [2 2]\n",
      " [2 4]\n",
      " [1 3]\n",
      " [4 4]\n",
      " [4 4]\n",
      " [2 4]\n",
      " [4 4]\n",
      " [4 4]\n",
      " [4 4]\n",
      " [4 4]\n",
      " [4 4]\n",
      " [4 4]\n",
      " [2 4]\n",
      " [2 3]\n",
      " [4 4]\n",
      " [4 4]\n",
      " [4 1]\n",
      " [4 4]\n",
      " [4 4]\n",
      " [4 1]\n",
      " [4 2]\n",
      " [4 4]\n",
      " [4 4]\n",
      " [4 4]\n",
      " [4 3]\n",
      " [4 4]\n",
      " [4 4]\n",
      " [4 4]\n",
      " [4 4]\n",
      " [4 4]]\n"
     ]
    }
   ],
   "source": [
    "y_pred_svm = classifier_svm.predict(x_test)\n",
    "print(np.concatenate((y_pred_svm.reshape(len(y_pred_svm),1), y_test.reshape(len(y_test),1)),1))"
   ]
  },
  {
   "cell_type": "code",
   "execution_count": 235,
   "metadata": {},
   "outputs": [
    {
     "name": "stdout",
     "output_type": "stream",
     "text": [
      "[[ 2  0  0  3]\n",
      " [ 1  2  0  5]\n",
      " [ 1  1  1  1]\n",
      " [ 0  4  0 39]]\n"
     ]
    },
    {
     "data": {
      "text/plain": [
       "0.7333333333333333"
      ]
     },
     "execution_count": 235,
     "metadata": {},
     "output_type": "execute_result"
    }
   ],
   "source": [
    "from sklearn.metrics import confusion_matrix, accuracy_score\n",
    "cm = confusion_matrix(y_test, y_pred_svm)\n",
    "print(cm)\n",
    "accuracy_score(y_test, y_pred_svm)"
   ]
  },
  {
   "cell_type": "code",
   "execution_count": 236,
   "metadata": {},
   "outputs": [
    {
     "data": {
      "text/plain": [
       "0.6733333333333335"
      ]
     },
     "execution_count": 236,
     "metadata": {},
     "output_type": "execute_result"
    }
   ],
   "source": [
    "# Results by cross validation\n",
    "scores_knn = cross_val_score(classifier_svm, x, y, cv=4)\n",
    "np.mean(scores_svm)"
   ]
  },
  {
   "cell_type": "code",
   "execution_count": 237,
   "metadata": {},
   "outputs": [],
   "source": [
    "## Kernal Algorithm"
   ]
  },
  {
   "cell_type": "code",
   "execution_count": 238,
   "metadata": {},
   "outputs": [
    {
     "data": {
      "text/plain": [
       "SVC(random_state=0)"
      ]
     },
     "execution_count": 238,
     "metadata": {},
     "output_type": "execute_result"
    }
   ],
   "source": [
    "from sklearn.svm import SVC\n",
    "classifier_kernal = SVC(kernel = 'rbf', random_state = 0)\n",
    "classifier_kernal.fit(x_train, y_train)"
   ]
  },
  {
   "cell_type": "code",
   "execution_count": 239,
   "metadata": {},
   "outputs": [
    {
     "name": "stdout",
     "output_type": "stream",
     "text": [
      "[[4 1]\n",
      " [4 2]\n",
      " [4 4]\n",
      " [4 4]\n",
      " [4 4]\n",
      " [4 4]\n",
      " [4 2]\n",
      " [4 2]\n",
      " [4 1]\n",
      " [4 4]\n",
      " [4 4]\n",
      " [4 4]\n",
      " [4 1]\n",
      " [4 4]\n",
      " [4 4]\n",
      " [4 4]\n",
      " [4 2]\n",
      " [4 4]\n",
      " [4 4]\n",
      " [4 4]\n",
      " [4 4]\n",
      " [4 4]\n",
      " [4 4]\n",
      " [4 4]\n",
      " [4 3]\n",
      " [4 2]\n",
      " [4 2]\n",
      " [4 4]\n",
      " [4 4]\n",
      " [4 4]\n",
      " [4 2]\n",
      " [4 4]\n",
      " [4 3]\n",
      " [4 4]\n",
      " [4 4]\n",
      " [4 4]\n",
      " [4 4]\n",
      " [4 4]\n",
      " [4 4]\n",
      " [4 4]\n",
      " [4 4]\n",
      " [4 4]\n",
      " [4 4]\n",
      " [4 3]\n",
      " [4 4]\n",
      " [4 4]\n",
      " [4 1]\n",
      " [4 4]\n",
      " [4 4]\n",
      " [4 1]\n",
      " [4 2]\n",
      " [4 4]\n",
      " [4 4]\n",
      " [4 4]\n",
      " [4 3]\n",
      " [4 4]\n",
      " [4 4]\n",
      " [4 4]\n",
      " [4 4]\n",
      " [4 4]]\n"
     ]
    }
   ],
   "source": [
    "y_pred_kernal = classifier_kernal.predict(x_test)\n",
    "print(np.concatenate((y_pred_kernal.reshape(len(y_pred_kernal),1), y_test.reshape(len(y_test),1)),1))"
   ]
  },
  {
   "cell_type": "code",
   "execution_count": 240,
   "metadata": {},
   "outputs": [
    {
     "name": "stdout",
     "output_type": "stream",
     "text": [
      "[[ 0  0  0  5]\n",
      " [ 0  0  0  8]\n",
      " [ 0  0  0  4]\n",
      " [ 0  0  0 43]]\n"
     ]
    },
    {
     "data": {
      "text/plain": [
       "0.7166666666666667"
      ]
     },
     "execution_count": 240,
     "metadata": {},
     "output_type": "execute_result"
    }
   ],
   "source": [
    "from sklearn.metrics import confusion_matrix, accuracy_score\n",
    "cm = confusion_matrix(y_test, y_pred_kernal)\n",
    "print(cm)\n",
    "accuracy_score(y_test, y_pred_kernal)"
   ]
  },
  {
   "cell_type": "code",
   "execution_count": 241,
   "metadata": {},
   "outputs": [
    {
     "data": {
      "text/plain": [
       "0.78"
      ]
     },
     "execution_count": 241,
     "metadata": {},
     "output_type": "execute_result"
    }
   ],
   "source": [
    "# Results by cross validation\n",
    "scores_kernal = cross_val_score(classifier_kernal, x, y, cv=4)\n",
    "np.mean(scores_kernal)"
   ]
  },
  {
   "cell_type": "code",
   "execution_count": 242,
   "metadata": {},
   "outputs": [],
   "source": [
    "## Naive Bayes"
   ]
  },
  {
   "cell_type": "code",
   "execution_count": 243,
   "metadata": {},
   "outputs": [
    {
     "data": {
      "text/plain": [
       "GaussianNB()"
      ]
     },
     "execution_count": 243,
     "metadata": {},
     "output_type": "execute_result"
    }
   ],
   "source": [
    "from sklearn.naive_bayes import GaussianNB\n",
    "classifier_nb = GaussianNB()\n",
    "classifier_nb.fit(x_train, y_train)"
   ]
  },
  {
   "cell_type": "code",
   "execution_count": 244,
   "metadata": {
    "scrolled": true
   },
   "outputs": [
    {
     "name": "stdout",
     "output_type": "stream",
     "text": [
      "[[1 1]\n",
      " [1 2]\n",
      " [2 4]\n",
      " [4 4]\n",
      " [1 4]\n",
      " [1 4]\n",
      " [4 2]\n",
      " [1 2]\n",
      " [4 1]\n",
      " [4 4]\n",
      " [1 4]\n",
      " [1 4]\n",
      " [4 1]\n",
      " [4 4]\n",
      " [4 4]\n",
      " [2 4]\n",
      " [2 2]\n",
      " [2 4]\n",
      " [2 4]\n",
      " [4 4]\n",
      " [1 4]\n",
      " [4 4]\n",
      " [1 4]\n",
      " [1 4]\n",
      " [2 3]\n",
      " [1 2]\n",
      " [4 2]\n",
      " [4 4]\n",
      " [2 4]\n",
      " [4 4]\n",
      " [2 2]\n",
      " [4 4]\n",
      " [4 3]\n",
      " [1 4]\n",
      " [1 4]\n",
      " [4 4]\n",
      " [2 4]\n",
      " [1 4]\n",
      " [2 4]\n",
      " [4 4]\n",
      " [1 4]\n",
      " [1 4]\n",
      " [2 4]\n",
      " [4 3]\n",
      " [2 4]\n",
      " [1 4]\n",
      " [1 1]\n",
      " [4 4]\n",
      " [4 4]\n",
      " [4 1]\n",
      " [4 2]\n",
      " [2 4]\n",
      " [4 4]\n",
      " [1 4]\n",
      " [4 3]\n",
      " [1 4]\n",
      " [1 4]\n",
      " [4 4]\n",
      " [1 4]\n",
      " [4 4]]\n"
     ]
    }
   ],
   "source": [
    "y_pred_nb = classifier_nb.predict(x_test)\n",
    "print(np.concatenate((y_pred_nb.reshape(len(y_pred_nb),1), y_test.reshape(len(y_test),1)),1))"
   ]
  },
  {
   "cell_type": "code",
   "execution_count": 245,
   "metadata": {},
   "outputs": [
    {
     "name": "stdout",
     "output_type": "stream",
     "text": [
      "[[ 2  0  0  3]\n",
      " [ 3  2  0  3]\n",
      " [ 0  1  0  3]\n",
      " [17 10  0 16]]\n"
     ]
    },
    {
     "data": {
      "text/plain": [
       "0.3333333333333333"
      ]
     },
     "execution_count": 245,
     "metadata": {},
     "output_type": "execute_result"
    }
   ],
   "source": [
    "from sklearn.metrics import confusion_matrix, accuracy_score\n",
    "cm = confusion_matrix(y_test, y_pred_nb)\n",
    "print(cm)\n",
    "accuracy_score(y_test, y_pred_nb)"
   ]
  },
  {
   "cell_type": "code",
   "execution_count": 246,
   "metadata": {},
   "outputs": [
    {
     "data": {
      "text/plain": [
       "0.3766666666666666"
      ]
     },
     "execution_count": 246,
     "metadata": {},
     "output_type": "execute_result"
    }
   ],
   "source": [
    "# Results by cross validation\n",
    "scores_nb = cross_val_score(classifier_nb, x, y, cv=4)\n",
    "np.mean(scores_nb)"
   ]
  },
  {
   "cell_type": "code",
   "execution_count": 247,
   "metadata": {},
   "outputs": [],
   "source": [
    "## Decision Tree"
   ]
  },
  {
   "cell_type": "code",
   "execution_count": 248,
   "metadata": {},
   "outputs": [
    {
     "data": {
      "text/plain": [
       "DecisionTreeClassifier(random_state=0)"
      ]
     },
     "execution_count": 248,
     "metadata": {},
     "output_type": "execute_result"
    }
   ],
   "source": [
    "from sklearn.tree import DecisionTreeClassifier\n",
    "classifier_dt = DecisionTreeClassifier(criterion = 'gini', random_state = 0)\n",
    "classifier_dt.fit(x_train, y_train)"
   ]
  },
  {
   "cell_type": "code",
   "execution_count": 249,
   "metadata": {},
   "outputs": [
    {
     "name": "stdout",
     "output_type": "stream",
     "text": [
      "[[1 1]\n",
      " [1 2]\n",
      " [4 4]\n",
      " [4 4]\n",
      " [4 4]\n",
      " [4 4]\n",
      " [0 2]\n",
      " [2 2]\n",
      " [4 1]\n",
      " [4 4]\n",
      " [4 4]\n",
      " [4 4]\n",
      " [4 1]\n",
      " [4 4]\n",
      " [4 4]\n",
      " [4 4]\n",
      " [4 2]\n",
      " [4 4]\n",
      " [4 4]\n",
      " [4 4]\n",
      " [4 4]\n",
      " [4 4]\n",
      " [4 4]\n",
      " [4 4]\n",
      " [4 3]\n",
      " [2 2]\n",
      " [1 2]\n",
      " [4 4]\n",
      " [4 4]\n",
      " [4 4]\n",
      " [4 2]\n",
      " [2 4]\n",
      " [2 3]\n",
      " [2 4]\n",
      " [4 4]\n",
      " [4 4]\n",
      " [4 4]\n",
      " [4 4]\n",
      " [4 4]\n",
      " [4 4]\n",
      " [4 4]\n",
      " [4 4]\n",
      " [4 4]\n",
      " [4 3]\n",
      " [4 4]\n",
      " [4 4]\n",
      " [2 1]\n",
      " [4 4]\n",
      " [4 4]\n",
      " [4 1]\n",
      " [4 2]\n",
      " [4 4]\n",
      " [4 4]\n",
      " [4 4]\n",
      " [4 3]\n",
      " [4 4]\n",
      " [4 4]\n",
      " [4 4]\n",
      " [4 4]\n",
      " [4 4]]\n"
     ]
    }
   ],
   "source": [
    "y_pred_dt = classifier_dt.predict(x_test)\n",
    "print(np.concatenate((y_pred_dt.reshape(len(y_pred_dt),1), y_test.reshape(len(y_test),1)),1))"
   ]
  },
  {
   "cell_type": "code",
   "execution_count": 250,
   "metadata": {},
   "outputs": [
    {
     "name": "stdout",
     "output_type": "stream",
     "text": [
      "[[ 0  0  0  0  0]\n",
      " [ 0  1  1  0  3]\n",
      " [ 1  2  2  0  3]\n",
      " [ 0  0  1  0  3]\n",
      " [ 0  0  2  0 41]]\n"
     ]
    },
    {
     "data": {
      "text/plain": [
       "0.7333333333333333"
      ]
     },
     "execution_count": 250,
     "metadata": {},
     "output_type": "execute_result"
    }
   ],
   "source": [
    "from sklearn.metrics import confusion_matrix, accuracy_score\n",
    "cm = confusion_matrix(y_test, y_pred_dt)\n",
    "print(cm)\n",
    "accuracy_score(y_test, y_pred_dt)"
   ]
  },
  {
   "cell_type": "code",
   "execution_count": 251,
   "metadata": {},
   "outputs": [
    {
     "data": {
      "text/plain": [
       "0.6766666666666667"
      ]
     },
     "execution_count": 251,
     "metadata": {},
     "output_type": "execute_result"
    }
   ],
   "source": [
    "# Results by cross validation\n",
    "scores_dt = cross_val_score(classifier_dt, x, y, cv=4)\n",
    "np.mean(scores_dt)"
   ]
  },
  {
   "cell_type": "code",
   "execution_count": 252,
   "metadata": {},
   "outputs": [],
   "source": [
    "### Random Forest"
   ]
  },
  {
   "cell_type": "code",
   "execution_count": 253,
   "metadata": {},
   "outputs": [
    {
     "data": {
      "text/plain": [
       "RandomForestClassifier(criterion='entropy', n_estimators=10, random_state=0)"
      ]
     },
     "execution_count": 253,
     "metadata": {},
     "output_type": "execute_result"
    }
   ],
   "source": [
    "from sklearn.ensemble import RandomForestClassifier\n",
    "classifier_rf = RandomForestClassifier(n_estimators = 10, criterion = 'entropy', random_state = 0)\n",
    "classifier_rf.fit(x_train, y_train)"
   ]
  },
  {
   "cell_type": "code",
   "execution_count": 254,
   "metadata": {
    "scrolled": true
   },
   "outputs": [
    {
     "name": "stdout",
     "output_type": "stream",
     "text": [
      "[[4 1]\n",
      " [4 2]\n",
      " [4 4]\n",
      " [4 4]\n",
      " [4 4]\n",
      " [4 4]\n",
      " [4 2]\n",
      " [4 2]\n",
      " [4 1]\n",
      " [4 4]\n",
      " [4 4]\n",
      " [4 4]\n",
      " [4 1]\n",
      " [4 4]\n",
      " [4 4]\n",
      " [4 4]\n",
      " [1 2]\n",
      " [4 4]\n",
      " [4 4]\n",
      " [4 4]\n",
      " [4 4]\n",
      " [4 4]\n",
      " [4 4]\n",
      " [4 4]\n",
      " [4 3]\n",
      " [4 2]\n",
      " [4 2]\n",
      " [4 4]\n",
      " [4 4]\n",
      " [4 4]\n",
      " [4 2]\n",
      " [2 4]\n",
      " [1 3]\n",
      " [4 4]\n",
      " [4 4]\n",
      " [4 4]\n",
      " [4 4]\n",
      " [4 4]\n",
      " [4 4]\n",
      " [4 4]\n",
      " [4 4]\n",
      " [4 4]\n",
      " [4 4]\n",
      " [4 3]\n",
      " [4 4]\n",
      " [4 4]\n",
      " [4 1]\n",
      " [4 4]\n",
      " [4 4]\n",
      " [4 1]\n",
      " [4 2]\n",
      " [4 4]\n",
      " [4 4]\n",
      " [4 4]\n",
      " [4 3]\n",
      " [4 4]\n",
      " [4 4]\n",
      " [4 4]\n",
      " [4 4]\n",
      " [4 4]]\n"
     ]
    }
   ],
   "source": [
    "y_pred_rf = classifier_rf.predict(x_test)\n",
    "print(np.concatenate((y_pred_rf.reshape(len(y_pred_rf),1), y_test.reshape(len(y_test),1)),1))"
   ]
  },
  {
   "cell_type": "code",
   "execution_count": 255,
   "metadata": {
    "scrolled": true
   },
   "outputs": [
    {
     "name": "stdout",
     "output_type": "stream",
     "text": [
      "[[ 0  0  0  5]\n",
      " [ 1  0  0  7]\n",
      " [ 1  0  0  3]\n",
      " [ 0  1  0 42]]\n"
     ]
    },
    {
     "data": {
      "text/plain": [
       "0.7"
      ]
     },
     "execution_count": 255,
     "metadata": {},
     "output_type": "execute_result"
    }
   ],
   "source": [
    "from sklearn.metrics import confusion_matrix, accuracy_score\n",
    "cm = confusion_matrix(y_test, y_pred_rf)\n",
    "print(cm)\n",
    "accuracy_score(y_test, y_pred_rf)"
   ]
  },
  {
   "cell_type": "code",
   "execution_count": 256,
   "metadata": {},
   "outputs": [
    {
     "data": {
      "text/plain": [
       "0.7366666666666667"
      ]
     },
     "execution_count": 256,
     "metadata": {},
     "output_type": "execute_result"
    }
   ],
   "source": [
    "# Results by cross validation\n",
    "scores_rf = cross_val_score(classifier_rf, x, y, cv=4)\n",
    "np.mean(scores_rf)"
   ]
  },
  {
   "cell_type": "code",
   "execution_count": null,
   "metadata": {},
   "outputs": [],
   "source": []
  },
  {
   "cell_type": "code",
   "execution_count": null,
   "metadata": {},
   "outputs": [],
   "source": []
  }
 ],
 "metadata": {
  "colab": {
   "collapsed_sections": [],
   "name": "data_preprocessing_tools.ipynb",
   "provenance": [],
   "toc_visible": true
  },
  "kernelspec": {
   "display_name": "Python 3 (ipykernel)",
   "language": "python",
   "name": "python3"
  },
  "language_info": {
   "codemirror_mode": {
    "name": "ipython",
    "version": 3
   },
   "file_extension": ".py",
   "mimetype": "text/x-python",
   "name": "python",
   "nbconvert_exporter": "python",
   "pygments_lexer": "ipython3",
   "version": "3.9.12"
  }
 },
 "nbformat": 4,
 "nbformat_minor": 1
}
